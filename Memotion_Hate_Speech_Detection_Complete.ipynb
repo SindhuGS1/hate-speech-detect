# Install required packages
!pip install transformers==4.35.0
!pip install torch torchvision
!pip install datasets evaluate
!pip install scikit-learn
!pip install accelerate
!pip install Pillow
!pip install matplotlib seaborn
!pip install pandas numpy
!pip install tqdm## 📦 Environment Setup & Dependencies# 🔍🛡️ Memotion 3.0 Hate Speech Detection
## Multi-Modal Approach using ResNet + BERT + VisualBERT

**Objective**: Detect hate speech in memes using a fusion of vision and language models
- **Vision**: ResNet for image feature extraction
- **Language**: BERT for text tokenization and encoding
- **Fusion**: VisualBERT for multi-modal classification

**Dataset**: Memotion 3.0 (Images + OCR Text + Offensive Labels)

---